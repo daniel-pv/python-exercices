{
  "nbformat": 4,
  "nbformat_minor": 0,
  "metadata": {
    "colab": {
      "provenance": [],
      "authorship_tag": "ABX9TyMPrqGV6RCd4S4eMpRkFiRa",
      "include_colab_link": true
    },
    "kernelspec": {
      "name": "python3",
      "display_name": "Python 3"
    },
    "language_info": {
      "name": "python"
    }
  },
  "cells": [
    {
      "cell_type": "markdown",
      "metadata": {
        "id": "view-in-github",
        "colab_type": "text"
      },
      "source": [
        "<a href=\"https://colab.research.google.com/github/daniel-pv/python-exercices/blob/main/python.ipynb\" target=\"_parent\"><img src=\"https://colab.research.google.com/assets/colab-badge.svg\" alt=\"Open In Colab\"/></a>"
      ]
    },
    {
      "cell_type": "code",
      "execution_count": null,
      "metadata": {
        "id": "bA2vuRE-Bkja"
      },
      "outputs": [],
      "source": []
    },
    {
      "cell_type": "markdown",
      "source": [
        "## **PYTHON EXERCICIES**"
      ],
      "metadata": {
        "id": "maSiwIIVBlk_"
      }
    },
    {
      "cell_type": "markdown",
      "source": [
        "Basic operations:\n",
        "add, sub, mult, div, pow"
      ],
      "metadata": {
        "id": "Ii8wvqrfB6HB"
      }
    },
    {
      "cell_type": "code",
      "source": [
        "def add(a, b):\n",
        "  return a + b\n",
        "\n",
        "def sub(a, b):\n",
        "  return a - b\n",
        "\n",
        "def mult(a, b):\n",
        "  return a * b\n",
        "\n",
        "def div(a, b):\n",
        "  return a / b\n",
        "\n",
        "def pow(a, b):\n",
        "  return a ** b\n",
        "a = 2\n",
        "b = 3\n",
        "print(\"ADD:\", add(a,b),\" SUB:\", sub(a,b))\n",
        "print(\"MULT:\", mult(a,b),\" DIV\", div(a,b))\n",
        "print(\"POW:\", pow(a,b))"
      ],
      "metadata": {
        "colab": {
          "base_uri": "https://localhost:8080/"
        },
        "id": "eIbrXKqjBpPw",
        "outputId": "44d42a2e-5370-406c-daa0-5f04c73b3019"
      },
      "execution_count": 4,
      "outputs": [
        {
          "output_type": "stream",
          "name": "stdout",
          "text": [
            "ADD: 5  SUB: -1\n",
            "MULT: 6  DIV 0.6666666666666666\n",
            "POW: 8\n"
          ]
        }
      ]
    },
    {
      "cell_type": "markdown",
      "source": [
        "# Calculator"
      ],
      "metadata": {
        "id": "6PmNsDuoDDc-"
      }
    },
    {
      "cell_type": "code",
      "source": [
        "class Calculator:\n",
        "  def __init__(self, a, b):\n",
        "    self.a = a\n",
        "    self.b = b\n",
        "  def add(self):\n",
        "    return self.a + self.b\n",
        "  def sub(self):\n",
        "    return self.a - self.b\n",
        "  def mult(self):\n",
        "    return self.a * self.b\n",
        "  def div(self):\n",
        "    return self.a / self.b\n",
        "  def pow(self):\n",
        "    return self.a ** self.b\n",
        "\n",
        "Calculator(2, 3).pow()"
      ],
      "metadata": {
        "colab": {
          "base_uri": "https://localhost:8080/"
        },
        "id": "sWdUjOjkDFuA",
        "outputId": "05346956-f431-45f2-bc98-40b302f96925"
      },
      "execution_count": 5,
      "outputs": [
        {
          "output_type": "execute_result",
          "data": {
            "text/plain": [
              "8"
            ]
          },
          "metadata": {},
          "execution_count": 5
        }
      ]
    },
    {
      "cell_type": "markdown",
      "source": [
        "# **🍕 Pizza Party Calculator**\n",
        "\n",
        "**Description:**\n",
        "This exercise consists of building an interactive Pizza Party Calculator using Python. The goal is to create a practical and fun command-line tool that helps users estimate how many pizzas, drinks, and snacks are needed for a party based on the number of guests and their appetite.\n",
        "\n",
        "The calculator is designed to simulate a real-life scenario such as organizing a birthday party, game night, or social gathering, and provides users with smart suggestions and buffer calculations to avoid running out of food."
      ],
      "metadata": {
        "id": "GLAsHy_5I09e"
      }
    },
    {
      "cell_type": "markdown",
      "source": [
        "**What It Will Do:**\n",
        "\n",
        "**Inputs:**\n",
        "\n",
        "Number of guests\n",
        "\n",
        "Appetite level: low, medium, high\n",
        "\n",
        "Type of event: kids, adults, mixed\n",
        "\n",
        "Drink preference (optional)\n",
        "\n",
        "**Calculates:**\n",
        "\n",
        "Number of pizzas (based on average slices/person)\n",
        "\n",
        "Number of drinks\n",
        "\n",
        "Number of snacks\n",
        "\n",
        "Buffer recommendation (+10–15%)\n",
        "\n",
        "**Bonus:**\n",
        "\n",
        "Fun/friendly messages like: “Don’t forget napkins and ice cream! 🍦”\n",
        "\n"
      ],
      "metadata": {
        "id": "rOhzvrDXJKo5"
      }
    },
    {
      "cell_type": "markdown",
      "source": [
        "# **Basic Logic Behind the Calculation:**\n",
        "Appetite\tSlices per Person\n",
        "Low\t2\n",
        "Medium\t3\n",
        "High\t4\n",
        "\n",
        "Pizza Size\tSlices per Pizza\n",
        "Large\t8"
      ],
      "metadata": {
        "id": "pSKopFLOJjEk"
      }
    }
  ]
}